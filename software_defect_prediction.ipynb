{
 "cells": [
  {
   "cell_type": "code",
   "execution_count": 120,
   "id": "80f3dd79",
   "metadata": {},
   "outputs": [
    {
     "name": "stdout",
     "output_type": "stream",
     "text": [
      "Requirement already satisfied: xgboost in c:\\users\\nitr_cs_pl4k\\anaconda3\\lib\\site-packages (2.0.3)\n",
      "Requirement already satisfied: numpy in c:\\users\\nitr_cs_pl4k\\anaconda3\\lib\\site-packages (from xgboost) (1.24.3)\n",
      "Requirement already satisfied: scipy in c:\\users\\nitr_cs_pl4k\\anaconda3\\lib\\site-packages (from xgboost) (1.10.1)\n"
     ]
    }
   ],
   "source": [
    "!pip install xgboost\n",
    "\n",
    "import pandas as pd\n",
    "import numpy as np\n",
    "from sklearn.model_selection import train_test_split\n",
    "from sklearn.tree import DecisionTreeClassifier\n",
    "from sklearn.ensemble import RandomForestClassifier, GradientBoostingClassifier\n",
    "from xgboost import XGBClassifier\n",
    "from lightgbm import LGBMClassifier\n",
    "from sklearn.neighbors import KNeighborsClassifier\n",
    "from sklearn.naive_bayes import GaussianNB\n",
    "from sklearn.svm import SVC\n",
    "from sklearn.metrics import confusion_matrix\n",
    "from prettytable import PrettyTable"
   ]
  },
  {
   "cell_type": "code",
   "execution_count": 121,
   "id": "2a9f4b65",
   "metadata": {},
   "outputs": [],
   "source": [
    "df = pd.read_csv(r'C:\\Users\\NITR_CS_PL4K\\Desktop\\Software_defect\\JM1.csv')"
   ]
  },
  {
   "cell_type": "code",
   "execution_count": 122,
   "id": "79320b95",
   "metadata": {},
   "outputs": [
    {
     "data": {
      "text/plain": [
       "(9593, 22)"
      ]
     },
     "execution_count": 122,
     "metadata": {},
     "output_type": "execute_result"
    }
   ],
   "source": [
    "df.shape"
   ]
  },
  {
   "cell_type": "code",
   "execution_count": 123,
   "id": "002ef579",
   "metadata": {},
   "outputs": [
    {
     "data": {
      "text/plain": [
       "211046"
      ]
     },
     "execution_count": 123,
     "metadata": {},
     "output_type": "execute_result"
    }
   ],
   "source": [
    "df. size"
   ]
  },
  {
   "cell_type": "code",
   "execution_count": 124,
   "id": "962d96a8",
   "metadata": {},
   "outputs": [
    {
     "data": {
      "text/plain": [
       "(9593, 22)"
      ]
     },
     "execution_count": 124,
     "metadata": {},
     "output_type": "execute_result"
    }
   ],
   "source": [
    "df.shape"
   ]
  },
  {
   "cell_type": "code",
   "execution_count": 125,
   "id": "0bbfc82e",
   "metadata": {},
   "outputs": [
    {
     "data": {
      "text/plain": [
       "2"
      ]
     },
     "execution_count": 125,
     "metadata": {},
     "output_type": "execute_result"
    }
   ],
   "source": [
    "df.ndim"
   ]
  },
  {
   "cell_type": "code",
   "execution_count": 126,
   "id": "4f842d04",
   "metadata": {},
   "outputs": [
    {
     "data": {
      "text/html": [
       "<div>\n",
       "<style scoped>\n",
       "    .dataframe tbody tr th:only-of-type {\n",
       "        vertical-align: middle;\n",
       "    }\n",
       "\n",
       "    .dataframe tbody tr th {\n",
       "        vertical-align: top;\n",
       "    }\n",
       "\n",
       "    .dataframe thead th {\n",
       "        text-align: right;\n",
       "    }\n",
       "</style>\n",
       "<table border=\"1\" class=\"dataframe\">\n",
       "  <thead>\n",
       "    <tr style=\"text-align: right;\">\n",
       "      <th></th>\n",
       "      <th>LOC_BLA0K</th>\n",
       "      <th>BRA0CH_COU0T</th>\n",
       "      <th>LOC_CODE_A0D_COMME0T</th>\n",
       "      <th>LOC_COMME0TS</th>\n",
       "      <th>C1CLOMATIC_COMPLEXIT1</th>\n",
       "      <th>DESIG0_COMPLEXIT1</th>\n",
       "      <th>ESSE0TIAL_COMPLEXIT1</th>\n",
       "      <th>LOC_EXECUTABLE</th>\n",
       "      <th>HALSTEAD_CO0TE0T</th>\n",
       "      <th>HALSTEAD_DIFFICULT1</th>\n",
       "      <th>...</th>\n",
       "      <th>HALSTEAD_LE0GTH</th>\n",
       "      <th>HALSTEAD_LEVEL</th>\n",
       "      <th>HALSTEAD_PROG_TIME</th>\n",
       "      <th>HALSTEAD_VOLUME</th>\n",
       "      <th>0UM_OPERA0DS</th>\n",
       "      <th>0UM_OPERATORS</th>\n",
       "      <th>0UM_U0IQUE_OPERA0DS</th>\n",
       "      <th>0UM_U0IQUE_OPERATORS</th>\n",
       "      <th>LOC_TOTAL</th>\n",
       "      <th>Defective</th>\n",
       "    </tr>\n",
       "  </thead>\n",
       "  <tbody>\n",
       "    <tr>\n",
       "      <th>0</th>\n",
       "      <td>447</td>\n",
       "      <td>826</td>\n",
       "      <td>12</td>\n",
       "      <td>157</td>\n",
       "      <td>470</td>\n",
       "      <td>385</td>\n",
       "      <td>113</td>\n",
       "      <td>2824</td>\n",
       "      <td>210.28</td>\n",
       "      <td>384.45</td>\n",
       "      <td>...</td>\n",
       "      <td>8441</td>\n",
       "      <td>0.00</td>\n",
       "      <td>1726654.57</td>\n",
       "      <td>80843.08</td>\n",
       "      <td>3021</td>\n",
       "      <td>5420</td>\n",
       "      <td>609</td>\n",
       "      <td>155</td>\n",
       "      <td>3442</td>\n",
       "      <td>1</td>\n",
       "    </tr>\n",
       "    <tr>\n",
       "      <th>1</th>\n",
       "      <td>37</td>\n",
       "      <td>29</td>\n",
       "      <td>8</td>\n",
       "      <td>42</td>\n",
       "      <td>19</td>\n",
       "      <td>19</td>\n",
       "      <td>6</td>\n",
       "      <td>133</td>\n",
       "      <td>108.14</td>\n",
       "      <td>46.32</td>\n",
       "      <td>...</td>\n",
       "      <td>685</td>\n",
       "      <td>0.02</td>\n",
       "      <td>12891.31</td>\n",
       "      <td>5009.32</td>\n",
       "      <td>295</td>\n",
       "      <td>390</td>\n",
       "      <td>121</td>\n",
       "      <td>38</td>\n",
       "      <td>222</td>\n",
       "      <td>1</td>\n",
       "    </tr>\n",
       "    <tr>\n",
       "      <th>2</th>\n",
       "      <td>11</td>\n",
       "      <td>405</td>\n",
       "      <td>0</td>\n",
       "      <td>17</td>\n",
       "      <td>404</td>\n",
       "      <td>2</td>\n",
       "      <td>1</td>\n",
       "      <td>814</td>\n",
       "      <td>101.20</td>\n",
       "      <td>206.01</td>\n",
       "      <td>...</td>\n",
       "      <td>2033</td>\n",
       "      <td>0.00</td>\n",
       "      <td>238607.05</td>\n",
       "      <td>20848.47</td>\n",
       "      <td>813</td>\n",
       "      <td>1220</td>\n",
       "      <td>811</td>\n",
       "      <td>411</td>\n",
       "      <td>844</td>\n",
       "      <td>1</td>\n",
       "    </tr>\n",
       "  </tbody>\n",
       "</table>\n",
       "<p>3 rows × 22 columns</p>\n",
       "</div>"
      ],
      "text/plain": [
       "   LOC_BLA0K  BRA0CH_COU0T  LOC_CODE_A0D_COMME0T  LOC_COMME0TS  \\\n",
       "0        447           826                    12           157   \n",
       "1         37            29                     8            42   \n",
       "2         11           405                     0            17   \n",
       "\n",
       "   C1CLOMATIC_COMPLEXIT1  DESIG0_COMPLEXIT1  ESSE0TIAL_COMPLEXIT1  \\\n",
       "0                    470                385                   113   \n",
       "1                     19                 19                     6   \n",
       "2                    404                  2                     1   \n",
       "\n",
       "   LOC_EXECUTABLE  HALSTEAD_CO0TE0T  HALSTEAD_DIFFICULT1  ...  \\\n",
       "0            2824            210.28               384.45  ...   \n",
       "1             133            108.14                46.32  ...   \n",
       "2             814            101.20               206.01  ...   \n",
       "\n",
       "   HALSTEAD_LE0GTH  HALSTEAD_LEVEL  HALSTEAD_PROG_TIME  HALSTEAD_VOLUME  \\\n",
       "0             8441            0.00          1726654.57         80843.08   \n",
       "1              685            0.02            12891.31          5009.32   \n",
       "2             2033            0.00           238607.05         20848.47   \n",
       "\n",
       "   0UM_OPERA0DS  0UM_OPERATORS  0UM_U0IQUE_OPERA0DS  0UM_U0IQUE_OPERATORS  \\\n",
       "0          3021           5420                  609                   155   \n",
       "1           295            390                  121                    38   \n",
       "2           813           1220                  811                   411   \n",
       "\n",
       "   LOC_TOTAL  Defective  \n",
       "0       3442          1  \n",
       "1        222          1  \n",
       "2        844          1  \n",
       "\n",
       "[3 rows x 22 columns]"
      ]
     },
     "execution_count": 126,
     "metadata": {},
     "output_type": "execute_result"
    }
   ],
   "source": [
    "df.head(3)"
   ]
  },
  {
   "cell_type": "code",
   "execution_count": 127,
   "id": "4cf24b2b",
   "metadata": {},
   "outputs": [
    {
     "name": "stdout",
     "output_type": "stream",
     "text": [
      "<class 'pandas.core.frame.DataFrame'>\n",
      "RangeIndex: 9593 entries, 0 to 9592\n",
      "Data columns (total 22 columns):\n",
      " #   Column                 Non-Null Count  Dtype  \n",
      "---  ------                 --------------  -----  \n",
      " 0   LOC_BLA0K              9593 non-null   int64  \n",
      " 1   BRA0CH_COU0T           9593 non-null   int64  \n",
      " 2   LOC_CODE_A0D_COMME0T   9593 non-null   int64  \n",
      " 3   LOC_COMME0TS           9593 non-null   int64  \n",
      " 4   C1CLOMATIC_COMPLEXIT1  9593 non-null   int64  \n",
      " 5   DESIG0_COMPLEXIT1      9593 non-null   int64  \n",
      " 6   ESSE0TIAL_COMPLEXIT1   9593 non-null   int64  \n",
      " 7   LOC_EXECUTABLE         9593 non-null   int64  \n",
      " 8   HALSTEAD_CO0TE0T       9593 non-null   float64\n",
      " 9   HALSTEAD_DIFFICULT1    9593 non-null   float64\n",
      " 10  HALSTEAD_EFFORT        9593 non-null   float64\n",
      " 11  HALSTEAD_ERROR_EST     9593 non-null   float64\n",
      " 12  HALSTEAD_LE0GTH        9593 non-null   int64  \n",
      " 13  HALSTEAD_LEVEL         9593 non-null   float64\n",
      " 14  HALSTEAD_PROG_TIME     9593 non-null   float64\n",
      " 15  HALSTEAD_VOLUME        9593 non-null   float64\n",
      " 16  0UM_OPERA0DS           9593 non-null   int64  \n",
      " 17  0UM_OPERATORS          9593 non-null   int64  \n",
      " 18  0UM_U0IQUE_OPERA0DS    9593 non-null   int64  \n",
      " 19  0UM_U0IQUE_OPERATORS   9593 non-null   int64  \n",
      " 20  LOC_TOTAL              9593 non-null   int64  \n",
      " 21  Defective              9593 non-null   int64  \n",
      "dtypes: float64(7), int64(15)\n",
      "memory usage: 1.6 MB\n"
     ]
    }
   ],
   "source": [
    "df.info(5)"
   ]
  },
  {
   "cell_type": "code",
   "execution_count": 128,
   "id": "bb5d1027",
   "metadata": {},
   "outputs": [
    {
     "data": {
      "text/plain": [
       "211046"
      ]
     },
     "execution_count": 128,
     "metadata": {},
     "output_type": "execute_result"
    }
   ],
   "source": [
    "df.size"
   ]
  },
  {
   "cell_type": "code",
   "execution_count": 129,
   "id": "aea71229",
   "metadata": {},
   "outputs": [
    {
     "data": {
      "text/plain": [
       "22"
      ]
     },
     "execution_count": 129,
     "metadata": {},
     "output_type": "execute_result"
    }
   ],
   "source": [
    "len(df.columns)"
   ]
  },
  {
   "cell_type": "code",
   "execution_count": 130,
   "id": "d3ac5086",
   "metadata": {
    "scrolled": true
   },
   "outputs": [
    {
     "data": {
      "text/plain": [
       "<bound method NDFrame.tail of       LOC_BLA0K  BRA0CH_COU0T  LOC_CODE_A0D_COMME0T  LOC_COMME0TS  \\\n",
       "0           447           826                    12           157   \n",
       "1            37            29                     8            42   \n",
       "2            11           405                     0            17   \n",
       "3           106           240                     7           344   \n",
       "4           101           464                    11            75   \n",
       "...         ...           ...                   ...           ...   \n",
       "9588          2             7                     0             0   \n",
       "9589          2             3                     0             0   \n",
       "9590         10             7                     0             1   \n",
       "9591          2             1                     0             0   \n",
       "9592          2             5                     1             0   \n",
       "\n",
       "      C1CLOMATIC_COMPLEXIT1  DESIG0_COMPLEXIT1  ESSE0TIAL_COMPLEXIT1  \\\n",
       "0                       470                385                   113   \n",
       "1                        19                 19                     6   \n",
       "2                       404                  2                     1   \n",
       "3                       127                105                    33   \n",
       "4                       263                256                   140   \n",
       "...                     ...                ...                   ...   \n",
       "9588                      4                  4                     1   \n",
       "9589                      2                  2                     1   \n",
       "9590                      4                  2                     1   \n",
       "9591                      1                  1                     1   \n",
       "9592                      3                  1                     1   \n",
       "\n",
       "      LOC_EXECUTABLE  HALSTEAD_CO0TE0T  HALSTEAD_DIFFICULT1  ...  \\\n",
       "0               2824            210.28               384.45  ...   \n",
       "1                133            108.14                46.32  ...   \n",
       "2                814            101.20               206.01  ...   \n",
       "3                952            218.17               215.17  ...   \n",
       "4               1339            106.50               337.36  ...   \n",
       "...              ...               ...                  ...  ...   \n",
       "9588              13             32.93                 7.33  ...   \n",
       "9589               5             15.72                 8.25  ...   \n",
       "9590              29             19.68                26.40  ...   \n",
       "9591               6             17.44                 8.44  ...   \n",
       "9592              13             23.56                11.57  ...   \n",
       "\n",
       "      HALSTEAD_LE0GTH  HALSTEAD_LEVEL  HALSTEAD_PROG_TIME  HALSTEAD_VOLUME  \\\n",
       "0                8441            0.00          1726654.57         80843.08   \n",
       "1                 685            0.02            12891.31          5009.32   \n",
       "2                2033            0.00           238607.05         20848.47   \n",
       "3                5669            0.00           561159.25         46943.69   \n",
       "4                4308            0.00           673377.60         35928.07   \n",
       "...               ...             ...                 ...              ...   \n",
       "9588               52            0.14               98.38           241.48   \n",
       "9589               30            0.12               59.43           129.66   \n",
       "9590              103            0.04              762.04           519.57   \n",
       "9591               36            0.12               68.98           147.15   \n",
       "9592               58            0.09              175.26           272.63   \n",
       "\n",
       "      0UM_OPERA0DS  0UM_OPERATORS  0UM_U0IQUE_OPERA0DS  0UM_U0IQUE_OPERATORS  \\\n",
       "0             3021           5420                  609                   155   \n",
       "1              295            390                  121                    38   \n",
       "2              813           1220                  811                   411   \n",
       "3             2301           3368                  262                    49   \n",
       "4             1556           2752                  226                    98   \n",
       "...            ...            ...                  ...                   ...   \n",
       "9588            22             30                   15                    10   \n",
       "9589            11             19                    8                    12   \n",
       "9590            44             59                   15                    18   \n",
       "9591            15             21                    8                     9   \n",
       "9592            27             31                   14                    12   \n",
       "\n",
       "      LOC_TOTAL  Defective  \n",
       "0          3442          1  \n",
       "1           222          1  \n",
       "2           844          1  \n",
       "3          1411          1  \n",
       "4          1532          1  \n",
       "...         ...        ...  \n",
       "9588         18          0  \n",
       "9589          9          0  \n",
       "9590         42          0  \n",
       "9591         10          0  \n",
       "9592         19          0  \n",
       "\n",
       "[9593 rows x 22 columns]>"
      ]
     },
     "execution_count": 130,
     "metadata": {},
     "output_type": "execute_result"
    }
   ],
   "source": [
    "df.tail"
   ]
  },
  {
   "cell_type": "code",
   "execution_count": 131,
   "id": "e2d09afa",
   "metadata": {},
   "outputs": [
    {
     "name": "stdout",
     "output_type": "stream",
     "text": [
      "   LOC_BLA0K  BRA0CH_COU0T  LOC_CODE_A0D_COMME0T  LOC_COMME0TS  \\\n",
      "0        447           826                    12           157   \n",
      "1         37            29                     8            42   \n",
      "2         11           405                     0            17   \n",
      "3        106           240                     7           344   \n",
      "4        101           464                    11            75   \n",
      "\n",
      "   C1CLOMATIC_COMPLEXIT1  DESIG0_COMPLEXIT1  ESSE0TIAL_COMPLEXIT1  \\\n",
      "0                    470                385                   113   \n",
      "1                     19                 19                     6   \n",
      "2                    404                  2                     1   \n",
      "3                    127                105                    33   \n",
      "4                    263                256                   140   \n",
      "\n",
      "   LOC_EXECUTABLE  HALSTEAD_CO0TE0T  HALSTEAD_DIFFICULT1  ...  \\\n",
      "0            2824            210.28               384.45  ...   \n",
      "1             133            108.14                46.32  ...   \n",
      "2             814            101.20               206.01  ...   \n",
      "3             952            218.17               215.17  ...   \n",
      "4            1339            106.50               337.36  ...   \n",
      "\n",
      "   HALSTEAD_LE0GTH  HALSTEAD_LEVEL  HALSTEAD_PROG_TIME  HALSTEAD_VOLUME  \\\n",
      "0             8441            0.00          1726654.57         80843.08   \n",
      "1              685            0.02            12891.31          5009.32   \n",
      "2             2033            0.00           238607.05         20848.47   \n",
      "3             5669            0.00           561159.25         46943.69   \n",
      "4             4308            0.00           673377.60         35928.07   \n",
      "\n",
      "   0UM_OPERA0DS  0UM_OPERATORS  0UM_U0IQUE_OPERA0DS  0UM_U0IQUE_OPERATORS  \\\n",
      "0          3021           5420                  609                   155   \n",
      "1           295            390                  121                    38   \n",
      "2           813           1220                  811                   411   \n",
      "3          2301           3368                  262                    49   \n",
      "4          1556           2752                  226                    98   \n",
      "\n",
      "   LOC_TOTAL  Defective  \n",
      "0       3442          1  \n",
      "1        222          1  \n",
      "2        844          1  \n",
      "3       1411          1  \n",
      "4       1532          1  \n",
      "\n",
      "[5 rows x 22 columns]\n"
     ]
    }
   ],
   "source": [
    "print(df.head())"
   ]
  },
  {
   "cell_type": "code",
   "execution_count": 132,
   "id": "549b3b6e",
   "metadata": {},
   "outputs": [
    {
     "name": "stdout",
     "output_type": "stream",
     "text": [
      "9593\n"
     ]
    }
   ],
   "source": [
    "row, col = df.shape\n",
    "print(row)"
   ]
  },
  {
   "cell_type": "code",
   "execution_count": 133,
   "id": "290fe716",
   "metadata": {},
   "outputs": [
    {
     "data": {
      "text/plain": [
       "Index(['LOC_BLA0K', 'BRA0CH_COU0T', 'LOC_CODE_A0D_COMME0T', 'LOC_COMME0TS',\n",
       "       'C1CLOMATIC_COMPLEXIT1', 'DESIG0_COMPLEXIT1', 'ESSE0TIAL_COMPLEXIT1',\n",
       "       'LOC_EXECUTABLE', 'HALSTEAD_CO0TE0T', 'HALSTEAD_DIFFICULT1',\n",
       "       'HALSTEAD_EFFORT', 'HALSTEAD_ERROR_EST', 'HALSTEAD_LE0GTH',\n",
       "       'HALSTEAD_LEVEL', 'HALSTEAD_PROG_TIME', 'HALSTEAD_VOLUME',\n",
       "       '0UM_OPERA0DS', '0UM_OPERATORS', '0UM_U0IQUE_OPERA0DS',\n",
       "       '0UM_U0IQUE_OPERATORS', 'LOC_TOTAL', 'Defective'],\n",
       "      dtype='object')"
      ]
     },
     "execution_count": 133,
     "metadata": {},
     "output_type": "execute_result"
    }
   ],
   "source": [
    "df.columns"
   ]
  },
  {
   "cell_type": "code",
   "execution_count": 134,
   "id": "46b4dc1f",
   "metadata": {},
   "outputs": [
    {
     "data": {
      "text/plain": [
       "211046"
      ]
     },
     "execution_count": 134,
     "metadata": {},
     "output_type": "execute_result"
    }
   ],
   "source": [
    "(df.size)"
   ]
  },
  {
   "cell_type": "code",
   "execution_count": 135,
   "id": "7ad22832",
   "metadata": {},
   "outputs": [
    {
     "data": {
      "text/plain": [
       "0       447\n",
       "1        37\n",
       "2        11\n",
       "3       106\n",
       "4       101\n",
       "       ... \n",
       "9588      2\n",
       "9589      2\n",
       "9590     10\n",
       "9591      2\n",
       "9592      2\n",
       "Name: LOC_BLA0K, Length: 9593, dtype: int64"
      ]
     },
     "execution_count": 135,
     "metadata": {},
     "output_type": "execute_result"
    }
   ],
   "source": [
    "df[\"LOC_BLA0K\"]"
   ]
  },
  {
   "cell_type": "code",
   "execution_count": 141,
   "id": "ac364c3a",
   "metadata": {},
   "outputs": [],
   "source": [
    "# Encode labels into numeric format\n",
    "from sklearn.preprocessing import LabelEncoder\n",
    "label_encoder = LabelEncoder()\n",
    "y = label_encoder.fit_transform(y)\n",
    "y_mapping = dict(zip(label_encoder.classes_, label_encoder.transform(label_encoder.classes_)))\n"
   ]
  },
  {
   "cell_type": "code",
   "execution_count": 142,
   "id": "b34f9ae0",
   "metadata": {},
   "outputs": [
    {
     "name": "stdout",
     "output_type": "stream",
     "text": [
      "Training set shape (features): (7674, 21)\n",
      "Testing set shape (features): (1919, 21)\n",
      "Training set shape (target): (7674,)\n",
      "Testing set shape (target): (1919,)\n"
     ]
    }
   ],
   "source": [
    "# Split the dataframe into features (X) and target (y)\n",
    "X = df.drop(columns=['Defective'])  # Replace 'target_column' with the name of your target column\n",
    "y = df['Defective']\n",
    "\n",
    "# Split the data into training (80%) and testing (20%) sets\n",
    "X_train, X_test, y_train, y_test = train_test_split(X, y, test_size=0.2, random_state=42)\n",
    "\n",
    "# Display the shapes of the training and testing sets\n",
    "print(\"Training set shape (features):\", X_train.shape)\n",
    "print(\"Testing set shape (features):\", X_test.shape)\n",
    "print(\"Training set shape (target):\", y_train.shape)\n",
    "print(\"Testing set shape (target):\", y_test.shape)\n"
   ]
  },
  {
   "cell_type": "code",
   "execution_count": 148,
   "id": "95d70003",
   "metadata": {},
   "outputs": [],
   "source": [
    "# Initialize classifiers with different kernels\n",
    "classifiers = {\n",
    "    \"Decision Tree\": DecisionTreeClassifier(random_state=42),\n",
    "    \"Random Forest\": RandomForestClassifier(n_estimators=100, random_state=42),\n",
    "#     \"k-Nearest Neighbors\": KNeighborsClassifier(),\n",
    "    \"SVM Linear\": SVC(kernel='linear', random_state=42),\n",
    "    \"SVM Polynomial Degree 3\": SVC(kernel='poly', degree=3, random_state=42),\n",
    "    \"SVM Polynomial Degree 4\": SVC(kernel='poly', degree=4, random_state=42),\n",
    "    \"SVM RBF\": SVC(kernel='rbf', random_state=42),\n",
    "    \"SVM Sigmoid\": SVC(kernel='sigmoid', random_state=42)\n",
    "}\n"
   ]
  },
  {
   "cell_type": "code",
   "execution_count": 149,
   "id": "e707ef03",
   "metadata": {},
   "outputs": [],
   "source": [
    "\n",
    "# Initialize dictionaries to store evaluation metrics\n",
    "metrics_dict = {\n",
    "    \"Classifier\": [],\n",
    "    \"Accuracy\": [],\n",
    "    \"Precision\": [],\n",
    "    \"Recall\": [],\n",
    "    \"F1 Score\": [],\n",
    "}\n"
   ]
  },
  {
   "cell_type": "code",
   "execution_count": null,
   "id": "7ac44f71",
   "metadata": {},
   "outputs": [],
   "source": [
    "\n",
    "# Iterate through each classifier\n",
    "for clf_name, classifier in classifiers.items():\n",
    "    classifier.fit(X_train, y_train)\n",
    "    predictions = classifier.predict(X_test)\n",
    "    \n",
    "    # Calculate evaluation metrics\n",
    "    conf_matrix = confusion_matrix(y_test, predictions)\n",
    "    \n",
    "#     # Create confusion matrix table\n",
    "#     conf_matrix_table = PrettyTable()\n",
    "#     conf_matrix_table.title = f\"Confusion Matrix for {clf_name}\"\n",
    "#     conf_matrix_table.field_names = [\"\", \"Predicted 0\"]\n",
    "    \n",
    "#     # Add rows for each actual class\n",
    "#     for i in range(conf_matrix.shape[0]):\n",
    "#         conf_matrix_table.add_row([f\"Actual {i}\"] + list(conf_matrix[i]))\n",
    "    \n",
    "#     # Print confusion matrix for each classifier\n",
    "#     print(conf_matrix_table)\n",
    "            \n",
    "    # Calculate metrics\n",
    "    accuracy = np.trace(conf_matrix) / np.sum(conf_matrix)\n",
    "    precision = np.where(np.sum(conf_matrix, axis=0) == 0, 0, np.diag(conf_matrix) / np.sum(conf_matrix, axis=0))\n",
    "    recall = np.where(np.sum(conf_matrix, axis=1) == 0, 0, np.diag(conf_matrix) / np.sum(conf_matrix, axis=1))\n",
    "    f1_score = np.where((precision + recall) == 0, 0, 2 * precision * recall / (precision + recall))\n",
    "\n",
    "    # Store evaluation metrics in the dictionary\n",
    "    metrics_dict[\"Classifier\"].append(clf_name)\n",
    "    metrics_dict[\"Accuracy\"].append(accuracy)\n",
    "    metrics_dict[\"Precision\"].append(np.mean(precision))\n",
    "    metrics_dict[\"Recall\"].append(np.mean(recall))\n",
    "    metrics_dict[\"F1 Score\"].append(np.mean(f1_score))\n",
    "    \n"
   ]
  },
  {
   "cell_type": "code",
   "execution_count": null,
   "id": "9c4f49e6",
   "metadata": {},
   "outputs": [],
   "source": [
    "# Create PrettyTable for evaluation metrics\n",
    "metrics_table = PrettyTable()\n",
    "metrics_table.field_names = [\"Classifier\", \"Accuracy\", \"Precision\", \"Recall\", \"F1 Score\"]\n",
    "for i in range(len(metrics_dict[\"Classifier\"])):\n",
    "    metrics_table.add_row([\n",
    "        metrics_dict[\"Classifier\"][i],\n",
    "        metrics_dict[\"Accuracy\"][i],\n",
    "        metrics_dict[\"Precision\"][i],\n",
    "        metrics_dict[\"Recall\"][i],\n",
    "        metrics_dict[\"F1 Score\"][i]\n",
    "    ])\n",
    "\n"
   ]
  },
  {
   "cell_type": "code",
   "execution_count": null,
   "id": "1bda03bc",
   "metadata": {},
   "outputs": [],
   "source": [
    "# Print evaluation metrics table\n",
    "print(\"Evaluation Metrics:\")\n",
    "print(metrics_table)"
   ]
  }
 ],
 "metadata": {
  "kernelspec": {
   "display_name": "Python 3 (ipykernel)",
   "language": "python",
   "name": "python3"
  },
  "language_info": {
   "codemirror_mode": {
    "name": "ipython",
    "version": 3
   },
   "file_extension": ".py",
   "mimetype": "text/x-python",
   "name": "python",
   "nbconvert_exporter": "python",
   "pygments_lexer": "ipython3",
   "version": "3.11.4"
  }
 },
 "nbformat": 4,
 "nbformat_minor": 5
}
